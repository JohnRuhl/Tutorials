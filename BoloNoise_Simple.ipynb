{
 "cells": [
  {
   "cell_type": "markdown",
   "metadata": {},
   "source": [
    "# A simple version of bolometer noise\n",
    "\n",
    "Photon, Phonon, and Johnson\n",
    "\n",
    "J. Ruhl, 6/8/2021"
   ]
  },
  {
   "cell_type": "code",
   "execution_count": 1,
   "metadata": {},
   "outputs": [],
   "source": [
    "# Standard imports\n",
    "import numpy as np\n",
    "import matplotlib\n",
    "import matplotlib.pyplot as plt\n",
    "\n",
    "%matplotlib inline  \n",
    "plt.rcParams.update({'font.size': 18})\n",
    "plt.rcParams['figure.figsize'] = [12, 20]\n",
    "\n",
    "h = 6.6e-34\n",
    "kb = 1.38e-23"
   ]
  },
  {
   "cell_type": "markdown",
   "metadata": {},
   "source": [
    "## Photon noise\n",
    "\n",
    "Let's consider a single-moded bolometer, operating at center frequency $\\nu_0$, with bandwidth $\\Delta \\nu$, and optical efficiency $\\eta$, looking at an effective Rayleigh-Jeans temperature $T$.  The power absorbed by the bolometer is\n",
    "\n",
    "$$ P = \\eta k T \\Delta \\nu .$$\n",
    "\n",
    "Note that we can convert between power and (Rayleigh-Jeans) temperature units using a factor of $\\eta k \\Delta \\nu$.\n",
    "\n",
    "The number of photons that hit it (on average) per second is \n",
    "\n",
    "$$ n_\\gamma = P/(h \\nu_0)  .$$\n",
    "\n",
    "The random arrival of (uncorrelated) photons means that average fluctuates around by \n",
    "\n",
    "$$ \\sigma_\\gamma = \\sqrt{n_\\gamma} ,$$\n",
    "\n",
    "so the rms power fluctuations in one-second integrations is\n",
    "\n",
    "$$ \\sigma_P = h \\nu_0 \\sigma_\\gamma = h \\nu_0 \\sqrt{n_\\gamma} .$$  \n",
    "\n",
    "\n",
    "Note that we are ignoring the correlated photon (Bose) noise in this approximation.\n"
   ]
  },
  {
   "cell_type": "code",
   "execution_count": 42,
   "metadata": {},
   "outputs": [
    {
     "name": "stdout",
     "output_type": "stream",
     "text": [
      "P =           2.588e-12\n",
      "n_gamma =     2.614e+10\n",
      "sigma_gamma = 1.617e+05\n",
      "sigma_P =     1.601e-17\n",
      "sigma_T =     6.186e-05\n"
     ]
    }
   ],
   "source": [
    "eta = 0.5\n",
    "nu0 = 150e9\n",
    "delta_nu = 0.25*nu0 #25e9   # this is the full bandwidth\n",
    "T = 10\n",
    "\n",
    "P = eta*kb*T*delta_nu          # absorbed power\n",
    "n_gamma = P/(h*nu0)            # number of photons absorbed per second, on average\n",
    "sigma_gamma = np.sqrt(n_gamma) # rms fluctuations in photons absorbed/second\n",
    "sigma_P = h*nu0*sigma_gamma    # rms fluctuations in power absorbed/second\n",
    "sigma_T = sigma_P/(eta*kb*delta_nu)  # effective fluctuations in sky temp (RJ)\n",
    "\n",
    "print('P =           {0:6.3e}'.format(P))\n",
    "print('n_gamma =     {0:6.3e}'.format(n_gamma))\n",
    "print('sigma_gamma = {0:6.3e}'.format(sigma_gamma))\n",
    "print('sigma_P =     {0:6.3e}'.format(sigma_P))\n",
    "print('sigma_T =     {0:6.3e}'.format(sigma_T))\n",
    "\n"
   ]
  },
  {
   "cell_type": "markdown",
   "metadata": {},
   "source": [
    "## Photon noise including the Bose term\n",
    "\n",
    "The photon noise can be written either in terms of the power, or the occupation number, $n$, not to be confused with $n_\\gamma$ above.\n",
    "\n",
    "The photon NEP is given by\n",
    "\n",
    "$$ NEP^2_{photon} = \\int A(\\nu) \\left[n(\\nu) + n(\\nu)^2\\right] d\\nu ,$$\n",
    "\n",
    "where $A(\\nu) = 2*h^2 \\nu^2$."
   ]
  },
  {
   "cell_type": "code",
   "execution_count": 43,
   "metadata": {},
   "outputs": [
    {
     "name": "stdout",
     "output_type": "stream",
     "text": [
      "P =           1.770e-12\n",
      "Avg n = 4.803e-01\n",
      "With Bose:\n",
      "  NEP_photon =  2.274e-17  W/sqrt(Hz)\n",
      "  NET_photon =  6.213e-05  K*sqrt(s)\n",
      "Without Bose:\n",
      "  NEP_photon =  1.870e-17  W/sqrt(Hz)\n",
      "  NET_photon =  5.111e-05  K*sqrt(s)\n"
     ]
    }
   ],
   "source": [
    "Tb = T  # Note that we're using Planck brightness temperature here.\n",
    "\n",
    "nu_low = nu0 - delta_nu/2\n",
    "nu_high = nu0 + delta_nu/2\n",
    "nuvec = np.linspace(nu_low,nu_high,1000)\n",
    "\n",
    "A = 2*(h**2)*(nuvec**2)   # single mode, single polarization\n",
    "\n",
    "x = h*nuvec/(kb*Tb)\n",
    "\n",
    "#occupation number\n",
    "n = eta/(np.exp(x)-1.)    \n",
    "\n",
    "# photon power on bolometer at each freq\n",
    "Pnu = h*nuvec*n #power per mode per Hz; times Nmodes*Npol if those are not 1.\n",
    "\n",
    "#Integrate P to get the total power integrated across band\n",
    "Ptot= np.trapz(Pnu, nuvec)\n",
    "\n",
    "#photon noise integral\n",
    "integrand = A*(n + n**2) \n",
    "NEP2_photon = np.trapz(integrand, nuvec)\n",
    "NEP_photon = np.sqrt(NEP2_photon)\n",
    "NET_photon = (NEP_photon/np.sqrt(2))/(eta*kb*delta_nu)\n",
    "\n",
    "#Repeat ignoring Bose term\n",
    "integrand = A*n\n",
    "NEP2_photon_poisson = np.trapz(integrand, nuvec)\n",
    "NEP_photon_poisson = np.sqrt(NEP2_photon_poisson)\n",
    "NET_photon_poisson = (NEP_photon_poisson/np.sqrt(2))/(eta*kb*delta_nu)\n",
    "\n",
    "n_bar = np.mean(n)\n",
    "\n",
    "print('P =           {0:6.3e}'.format(Ptot))\n",
    "print('Avg n = {0:6.3e}'.format(n_bar))\n",
    "print('With Bose:')\n",
    "print('  NEP_photon =  {0:6.3e}  W/sqrt(Hz)'.format(NEP_photon))\n",
    "print('  NET_photon =  {0:6.3e}  K*sqrt(s)'.format(NET_photon))\n",
    "print('Without Bose:')\n",
    "print('  NEP_photon =  {0:6.3e}  W/sqrt(Hz)'.format(NEP_photon_poisson))\n",
    "print('  NET_photon =  {0:6.3e}  K*sqrt(s)'.format(NET_photon_poisson))\n"
   ]
  },
  {
   "cell_type": "markdown",
   "metadata": {},
   "source": [
    "# Phonon noise\n",
    "\n",
    "For an isothermal weak thermal link, \n",
    "\n",
    "$$ NEP_{phonon} = \\sqrt{4 k T^2 G_{dyn}}  .$$\n",
    "\n",
    "This gets modified because of the temperature gradient across the link, to \n",
    "\n",
    "$$ NEP_{phonon} = \\sqrt{4 k T^2 G_{dyn} F_{link}}  ,$$\n",
    "\n",
    "where $F_{link}$ depends on the temperature dependence of the thermal conductance of the link, parameterized by $\\beta$ or $n$.  Typically $F_{link}$ is a little smaller than one, but we'll take it to be one from here on.\n",
    "\n",
    "Note that if\n",
    "\n",
    "$$ P_{sat} = k ( T_{bolo}^n - T_{bath}^n ) , $$\n",
    "\n",
    "taking the derivative with w.r.t. T_{bolo} gives\n",
    "\n",
    "$$ G_{dyn} = \\frac{dP_{sat}}{d T_{bolo}} = n k T_{bolo}^{n-1} .$$\n",
    "\n",
    "If we know $P_{sat}$ and the temperatures, we can solve for $k$ and use that in our formula for $G_{dyn}$."
   ]
  },
  {
   "cell_type": "code",
   "execution_count": 46,
   "metadata": {},
   "outputs": [
    {
     "name": "stdout",
     "output_type": "stream",
     "text": [
      "Gdyn = 2.347e-10\n",
      "NEP_phonon = 1.821e-17\n"
     ]
    }
   ],
   "source": [
    "Tbolo = .16\n",
    "Tbath = 0.1\n",
    "nlink = 2.7\n",
    "Psat = 10e-12\n",
    "\n",
    "klink = Psat/(Tbolo**nlink - Tbath**nlink)\n",
    "\n",
    "Gdyn = nlink*klink*Tbolo**(nlink-1)\n",
    "\n",
    "NEP_phonon = np.sqrt(4*kb*Tbolo**2*Gdyn)\n",
    "\n",
    "print('Gdyn = {0:6.3e}'.format(Gdyn))\n",
    "print('NEP_phonon = {0:6.3e}'.format(NEP_phonon))"
   ]
  },
  {
   "cell_type": "markdown",
   "metadata": {},
   "source": [
    "# Johnson noise\n",
    "\n",
    "Naiively, \n",
    "\n",
    "$$ NEI_{Johnson} = \\sqrt{4 k T/R} $$\n",
    "\n",
    "$$ NEP_{Johnson} = \\frac{1}{S_I}\\sqrt{4 k T/R} $$\n",
    "\n",
    "where $S_I$ is the current-to-power responsibility.\n",
    "\n",
    "However, this noise is suppressed because the loop gain partially cancels it.  That is, in a voltage-biased bolometer, a Johnson noise fluctuation causes the current through the bolometer to change, changing the electrical power dissipation in a way that acts (through electro thermal feedback) to cancel some of the current change.\n",
    "\n",
    "So, the end result is more like\n",
    "\n",
    "$$ NEP_{Johnson} = \\frac{1}{S_I L_0} \\sqrt{4 k T/R} .$$\n",
    "\n",
    "The current responsivity is \n",
    "\n",
    "$$ S_I = \\frac{dI}{dP} $$, \n",
    "\n",
    "which we can find for a high-loopgain, voltage-biased bolometer by considering that to a close approximation $R =$ constant, so\n",
    "\n",
    "$$ \\Delta P_{elec} = - \\Delta P_{opt} ,$$\n",
    "\n",
    "$$ \\Delta (I V_{bolo}) = - \\Delta P_{opt} ,$$\n",
    "\n",
    "$$ V \\Delta I = - \\Delta P_{opt} ,$$\n",
    "\n",
    "$$ \\frac{\\Delta I}{\\Delta P_{opt}}  = \\frac{dI}{dP} = \\frac{-1}{V_{bolo}} ,  $$\n",
    "\n",
    "$$ S_I = \\frac{-1}{V_{bolo}} . $$\n"
   ]
  },
  {
   "cell_type": "code",
   "execution_count": 50,
   "metadata": {},
   "outputs": [
    {
     "name": "stdout",
     "output_type": "stream",
     "text": [
      "Ibolo        = 3.536e-05\n",
      "Vbolo        = 2.828e-07\n",
      "SI           = -3.536e+06\n",
      "NEP_Johnson = 9.398e-19\n"
     ]
    }
   ],
   "source": [
    "Rbolo = 0.008\n",
    "Ibolo = np.sqrt(Psat/Rbolo)\n",
    "Vbolo = Ibolo*Rbolo\n",
    "SI = -1/Vbolo\n",
    "\n",
    "L0 = 10\n",
    "\n",
    "NEP_Johnson = np.abs(1/(SI*L0))*np.sqrt(4*kb*Tbolo/Rbolo)\n",
    "\n",
    "print('Ibolo        = {0:6.3e}'.format(Ibolo))\n",
    "print('Vbolo        = {0:6.3e}'.format(Vbolo))\n",
    "print('SI           = {0:6.3e}'.format(SI))\n",
    "print('NEP_Johnson = {0:6.3e}'.format(NEP_Johnson))"
   ]
  },
  {
   "cell_type": "code",
   "execution_count": null,
   "metadata": {},
   "outputs": [],
   "source": []
  }
 ],
 "metadata": {
  "kernelspec": {
   "display_name": "Python 3 (ipykernel)",
   "language": "python",
   "name": "python3"
  },
  "language_info": {
   "codemirror_mode": {
    "name": "ipython",
    "version": 3
   },
   "file_extension": ".py",
   "mimetype": "text/x-python",
   "name": "python",
   "nbconvert_exporter": "python",
   "pygments_lexer": "ipython3",
   "version": "3.11.5"
  }
 },
 "nbformat": 4,
 "nbformat_minor": 4
}
