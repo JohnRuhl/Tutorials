{
 "cells": [
  {
   "cell_type": "markdown",
   "metadata": {},
   "source": [
    "# FTS band conventions\n",
    "\n",
    "We measure our detector bands with an FTS in front of the cryostat.  These raw measurements need to be converted correctly to be used as filter response functions for integrals of on-sky sources, or to infer actual \"on wafer\" detector bands.\n",
    "\n",
    "In the first case, we want to calculate the power from an on-sky source, which is given by\n",
    "\n",
    "$$ P_{on-sky} = \\int_0^\\infty  B_\\nu(\\nu,T_{src}) \\cdot A\\Omega(\\nu) \n",
    "    \\cdot F_{on-sky}(\\nu) d\\nu .$$\n",
    "    \n",
    "The SPT3g collaboration sometimes refers to a different definition,\n",
    "\n",
    "$$ P_{on-sky} = \\int_0^\\infty  B_\\nu(\\nu,T_{src}) \\cdot f_{on-sky}(\\nu) d\\nu , $$\n",
    "where $f_{on-sky} = A\\Omega(\\nu) \\cdot F_{on-sky}(\\nu)$ is referred to as the instrument's response to a flat-spectrum source.  We proceed here using the first definition.\n",
    "\n",
    "Here we discuss how to find $F_{on-sky}(\\nu)$ and $F_{detector}$ from the measured FTS spectra.  We consider three frequency-dependent corrections:\n",
    "\n",
    " - $F_{splitter}(\\nu)$ = frequency dependence of the coupling to the FTS.  Here we assume reflection off a thin dielectric, which has an intensity reflection proportional to $\\nu^2$.  In cases where the FTS is coupled directly to the optics, this may be unity.\n",
    " - $F_{optics}(\\nu)$ = frequency dependence of the optics internal to the cryostat, not including the \"on-wafer\" bandpass function.  \n",
    " - $A\\Omega \\propto \\nu^{-2}$ for a single-mode detector.\n",
    " \n",
    "The power seen by a detector, coupled through the FTS, is\n",
    "$$ P_{fts} = \\int_0^\\infty {\\cal P}_{fts}(\\nu) d\\nu ,$$\n",
    "where ${\\cal P}_{fts}(\\nu)$ is the power spectral density of the coupled radiation.  When we plot the raw FTS spectrum vs $\\nu$, we are really plotting ${\\cal P}_{fts}(\\nu)$.\n",
    "We can thus write:\n",
    "\n",
    "$$ {\\cal P}_{fts}(\\nu) = B_\\nu(\\nu,T_{src}) \\cdot A\\Omega(\\nu) \\cdot F_{splitter}(\\nu) \\cdot F_{optics}(\\nu) \\cdot F_{detector}(\\nu) $$\n",
    "\n",
    "The temperature of the \"hot\" load in an FTS is typically around ambient, putting our millimeter-wave detector bands well onto the Rayleigh-Jeans (RJ) side of the blackbody emission spectrum of that source.  In that case, we can use $B_\\nu(\\nu,T_{src}) \\propto \\nu^2$.\n",
    "\n",
    "We can easily use the equation above to solve for the transmission of the \"on-wafer\" filters, for use in bolo-calc or for comparison with models of those filters.  We find\n",
    "\n",
    "$$ F_{detector}(\\nu) = \\frac{{\\cal P}_{fts}(\\nu)}{B_\\nu(\\nu,T_{src}) \\cdot A\\Omega(\\nu) \\cdot F_{splitter}(\\nu) \\cdot F_{optics}(\\nu) } $$\n",
    "\n",
    "$$ F_{detector}(\\nu) \\propto \\frac{{\\cal P}_{fts}(\\nu)}{\\nu^2 \\cdot \\nu^{-2} \\cdot \\nu^2 \\cdot F_{optics}(\\nu)} $$\n",
    "\n",
    "$$ F_{detector}(\\nu) \\propto \\frac{{\\cal P}_{fts}(\\nu)}{\\nu^2 \\cdot F_{optics}(\\nu)} \\tag{1} $$\n",
    "where we recall that $F_{optics}(\\nu)$ includes the effects of frequency-dependent loss in the cryostat optics, including spillover on the cold stop.\n",
    "\n",
    "We're also interested in the function $F_{on-sky}$ used to calculate the coupling of external (outside the cryostat) sources to the detector;  for example, what is the frequency dependence of the detector's coupling to the atmosphere, the CMB or galactic dust?\n",
    "\n",
    "Here, we write the spectral density of that coupling similar to the FTS coupling above, as\n",
    "\n",
    "$$ {\\cal P}_{sky}(\\nu) = B_\\nu(\\nu,T_{src}) \\cdot A\\Omega(\\nu) \\cdot F_{optics}(\\nu) \\cdot F_{detector}(\\nu)$$\n",
    "\n",
    "However, we see from the integrand in the first equation in this note that\n",
    "\n",
    "$$ {\\cal P}_{sky}(\\nu) = B_\\nu(\\nu,T_{src}) \\cdot A\\Omega(\\nu) \\cdot F_{on-sky}(\\nu)$$\n",
    "\n",
    "which makes clear that the on-sky filter function we desire is\n",
    "\n",
    "$$ F_{on-sky}(\\nu) = F_{optics}(\\nu) \\cdot F_{detector}(\\nu),$$\n",
    "\n",
    "which in retrospect seems obvious.  Looking at the solution for $F_{detector}$ above, we see that we can solve for $F_{on-sky}(\\nu)$ by moving $F_{detector}$ to the LHS, giving\n",
    "\n",
    "$$ F_{on-sky}(\\nu) \\propto \\frac{{\\cal P}_{fts}(\\nu)}{\\nu^2} . \\tag{2}$$\n",
    "\n",
    "Equations (1) and (2) are the main results of this discussion.  \n",
    "\n"
   ]
  },
  {
   "cell_type": "code",
   "execution_count": null,
   "metadata": {},
   "outputs": [],
   "source": []
  }
 ],
 "metadata": {
  "kernelspec": {
   "display_name": "Python 3",
   "language": "python",
   "name": "python3"
  },
  "language_info": {
   "codemirror_mode": {
    "name": "ipython",
    "version": 3
   },
   "file_extension": ".py",
   "mimetype": "text/x-python",
   "name": "python",
   "nbconvert_exporter": "python",
   "pygments_lexer": "ipython3",
   "version": "3.8.3"
  }
 },
 "nbformat": 4,
 "nbformat_minor": 4
}
