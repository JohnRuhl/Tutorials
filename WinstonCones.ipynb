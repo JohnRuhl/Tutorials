{
 "cells": [
  {
   "cell_type": "code",
   "execution_count": 12,
   "id": "fe12be78",
   "metadata": {},
   "outputs": [],
   "source": [
    "import numpy as np\n",
    "import matplotlib.pyplot as plt\n",
    "import sys\n",
    "\n",
    "# Make inline plots in this notebook, make them reasonable sizes, and with legible font size\n",
    "%matplotlib inline\n",
    "plt.rcParams.update({'font.size': 18})\n",
    "plt.rcParams['figure.figsize'] = [12, 8]"
   ]
  },
  {
   "cell_type": "markdown",
   "id": "886e26d6",
   "metadata": {},
   "source": [
    "# Winston Cones\n",
    "A Winston Cone, also known as a \"parabolic concentrator\", is a special non-imaging cone that accepts rays within fixed solid angle that hit its entrance aperture, and funnels them out the exit aperture into 2pi steradians.\n",
    "\n",
    "We start with half of a parabola, written as r(theta) from the focus, with theta=0 being along the axis of symmetry of the parabola, towards the \"sky\".\n",
    "\n",
    "Below is a figure from http://www.ericweisstein.com/research/thesis/node99.html\n",
    "whose coordinates and formulas we'll follow.\n",
    "\n",
    "![WinstonCone](WinstonCone.gif)"
   ]
  },
  {
   "cell_type": "code",
   "execution_count": 86,
   "id": "713fe4c7",
   "metadata": {},
   "outputs": [
    {
     "name": "stdout",
     "output_type": "stream",
     "text": [
      "Entrance:  half angle = 15.0 deg, radius = 115.0 mm\n",
      "Exit radius: 29.8 mm\n",
      "Length: 540.3 mm\n",
      "f: 37.5 mm\n"
     ]
    }
   ],
   "source": [
    "# define the cone\n",
    "\n",
    "theta_deg = 15 # half angle of acceptance cone.\n",
    "theta_rad = theta_deg*(np.pi/180.)\n",
    "\n",
    "a = 115 #mm entrance aperture\n",
    "a_prime = a*np.sin(theta_rad)\n",
    "\n",
    "f = a_prime*(1+np.sin(theta_rad))\n",
    "L = (a+a_prime)/np.tan(theta_rad)\n",
    "\n",
    "print('Entrance:  half angle = {0:4.1f} deg, radius = {1:4.1f} mm'.format(theta_deg,a))\n",
    "print('Exit radius: {0:4.1f} mm'.format(a_prime))\n",
    "print('Length: {0:4.1f} mm'.format(L))\n",
    "print('f: {0:4.1f} mm'.format(f))"
   ]
  },
  {
   "cell_type": "code",
   "execution_count": 87,
   "id": "203a756d",
   "metadata": {},
   "outputs": [
    {
     "data": {
      "text/plain": [
       "(-26.960713215790914,\n",
       " 566.1749775316091,\n",
       " -148.57351104575756,\n",
       " 148.57351104575756)"
      ]
     },
     "execution_count": 87,
     "metadata": {},
     "output_type": "execute_result"
    },
    {
     "data": {
      "image/png": "[encoded data removed]",
      "text/plain": [
       "<Figure size 800x300 with 1 Axes>"
      ]
     },
     "metadata": {},
     "output_type": "display_data"
    }
   ],
   "source": [
    "# build the cone in a straighforward way, by sweeping in phi.\n",
    "\n",
    "phi_deg = np.arange(2*theta_deg,theta_deg+90,1)\n",
    "phi = phi_deg*np.pi/180.\n",
    "rho = 2*f/(1-np.cos(phi))\n",
    "y2 = rho*np.cos(phi)+f\n",
    "x2 = rho*np.sin(phi)\n",
    "cost = np.cos(theta_rad)\n",
    "sint = np.sin(theta_rad)\n",
    "\n",
    "xp2 = x2*cost - y2*sint\n",
    "yp2 = x2*sint + y2*cost\n",
    "\n",
    "plt.rcParams.update({'font.size': 12})\n",
    "plt.rcParams['figure.figsize'] = [8, 3]\n",
    "plt.plot(yp2-yp2[-1],xp2,'b')\n",
    "plt.plot(yp2-yp2[-1],-xp2,'b')\n",
    "plt.grid()\n",
    "plt.axis('equal')"
   ]
  },
  {
   "cell_type": "markdown",
   "id": "5291368f",
   "metadata": {},
   "source": [
    "# Uniform z spacing\n",
    "\n",
    "For machining or 3D printing, we may want to generate the surface such that the points in our arrays have uniform spacing along the cone.  The method above generates points that are uniform in phi, so not very uniform along the cone.\n",
    "\n",
    "We have:\n",
    "\n",
    "$$ z = \\rho cos(\\phi - \\theta) $$\n",
    "\n",
    "and\n",
    "\n",
    "$$ \\rho = \\frac{2f}{1- cos(\\phi)} $$\n",
    "\n",
    "From these we find\n",
    "\n",
    "$$z = \\frac{2f}{1- cos(\\phi)} cos(\\phi -\\theta) .$$\n",
    "\n",
    "I'd like to solve for $\\phi(z)$, but that looks hard.  So, we'll use numpy to find phi for a given z, by minimizing the quantity\n",
    "\n",
    "$$A = \\left(z - \\left( \\frac{2f}{1- cos(\\phi)} cos(\\phi -\\theta)\\right)\\right)^2 $$\n",
    "\n",
    "\n",
    "Steps:\n",
    "- Create a vector with the desired z values\n",
    "- minimize the quantity \"A\" above for each z, which gives us the $\\phi$ corresponding to that z.\n",
    "- use that phi to find rho.\n",
    "\n",
    "\n",
    "\n",
    "\n"
   ]
  },
  {
   "cell_type": "code",
   "execution_count": 96,
   "id": "b5a48e0d",
   "metadata": {},
   "outputs": [],
   "source": [
    "# import the library that has the minimizer in it.\n",
    "import scipy.optimize as sciopt\n",
    "\n",
    "# Define the function we're going to minimize.\n",
    "def myfunc(phi,z,theta,f):\n",
    "    # The first argument is the variable that will be used to minimize the function.  The next three \n",
    "    # are (fixed, during the minimization) extra parameters of the function.\n",
    "    A = z - ( (2*f*np.cos(phi-theta))/(1- np.cos(phi)))\n",
    "    return(A**2)"
   ]
  },
  {
   "cell_type": "code",
   "execution_count": 98,
   "id": "06d29276",
   "metadata": {},
   "outputs": [
    {
     "data": {
      "image/png": "[encoded data removed]",
      "text/plain": [
       "<Figure size 800x300 with 1 Axes>"
      ]
     },
     "metadata": {},
     "output_type": "display_data"
    }
   ],
   "source": [
    "# Set up the spacing we want in z.  We're going to do it coarsely here, for illustration in the plot.\n",
    "z_vec = np.linspace(0,L,20)\n",
    "phi0_guess = np.pi/4         # the minimizer requires a first guess at phi\n",
    "phi_vec = np.array([])\n",
    "\n",
    "# loop through our z vector, finding and storing the value of phi corresponding to each z.\n",
    "for z in z_vec:\n",
    "    res=sciopt.minimize(myfunc,phi0_guess,(z,theta_rad,f))\n",
    "    phi_vec = np.append(phi_vec,res.x[0])\n",
    "\n",
    "# Now find rho for each of those phis (or z's)\n",
    "rho_vec = 2*f/(1-np.cos(phi_vec))\n",
    "\n",
    "# conver to the plotting coordinates\n",
    "y2 = rho_vec*np.cos(phi_vec)+f\n",
    "x2 = rho_vec*np.sin(phi_vec)\n",
    "cost = np.cos(theta_rad)\n",
    "sint = np.sin(theta_rad)\n",
    "\n",
    "# rotate to primed coordinate system\n",
    "xp2 = x2*cost - y2*sint\n",
    "yp2 = x2*sint + y2*cost\n",
    "\n",
    "# Plot\n",
    "plt.rcParams.update({'font.size': 12})\n",
    "plt.rcParams['figure.figsize'] = [8, 3]\n",
    "plt.plot(yp2-yp2[0],xp2,'b.')\n",
    "plt.plot(yp2-yp2[0],-xp2,'b.')\n",
    "\n",
    "plt.axis('equal')\n",
    "plt.grid()\n"
   ]
  },
  {
   "cell_type": "code",
   "execution_count": 99,
   "id": "caf058bd",
   "metadata": {},
   "outputs": [
    {
     "data": {
      "text/plain": [
       "      fun: 1.691070506597958e-10\n",
       " hess_inv: array([[1.07062428e-07]])\n",
       "      jac: array([0.01338611])\n",
       "  message: 'Desired error not necessarily achieved due to precision loss.'\n",
       "     nfev: 52\n",
       "      nit: 5\n",
       "     njev: 20\n",
       "   status: 2\n",
       "  success: False\n",
       "        x: array([0.52359877])"
      ]
     },
     "execution_count": 99,
     "metadata": {},
     "output_type": "execute_result"
    }
   ],
   "source": [
    "# Just for educational purposes, here's the full structure the minimizer returned.\n",
    "res"
   ]
  },
  {
   "cell_type": "code",
   "execution_count": 101,
   "id": "de5ffa91",
   "metadata": {},
   "outputs": [
    {
     "data": {
      "text/plain": [
       "0.5235987695808534"
      ]
     },
     "execution_count": 101,
     "metadata": {},
     "output_type": "execute_result"
    }
   ],
   "source": [
    "res.x[0]"
   ]
  },
  {
   "cell_type": "code",
   "execution_count": null,
   "id": "7a8ecc93",
   "metadata": {},
   "outputs": [],
   "source": []
  }
 ],
 "metadata": {
  "kernelspec": {
   "display_name": "Python 3 (ipykernel)",
   "language": "python",
   "name": "python3"
  },
  "language_info": {
   "codemirror_mode": {
    "name": "ipython",
    "version": 3
   },
   "file_extension": ".py",
   "mimetype": "text/x-python",
   "name": "python",
   "nbconvert_exporter": "python",
   "pygments_lexer": "ipython3",
   "version": "3.9.13"
  }
 },
 "nbformat": 4,
 "nbformat_minor": 5
}
