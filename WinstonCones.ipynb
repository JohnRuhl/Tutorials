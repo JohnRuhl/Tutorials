{
 "cells": [
  {
   "cell_type": "code",
   "execution_count": 1,
   "id": "fe12be78",
   "metadata": {},
   "outputs": [],
   "source": [
    "import numpy as np\n",
    "import matplotlib.pyplot as plt\n",
    "import sys\n",
    "\n",
    "# Make inline plots in this notebook, make them reasonable sizes, and with legible font size\n",
    "%matplotlib inline\n",
    "plt.rcParams.update({'font.size': 18})\n",
    "plt.rcParams['figure.figsize'] = [12, 8]"
   ]
  },
  {
   "cell_type": "markdown",
   "id": "886e26d6",
   "metadata": {},
   "source": [
    "# Winston Cones\n",
    "A Winston Cone, also known as a \"parabolic concentrator\", is a special non-imaging cone that accepts rays within fixed solid angle that hit its entrance aperture, and funnels them out the exit aperture into 2pi steradians.\n"
   ]
  },
  {
   "cell_type": "code",
   "execution_count": 2,
   "id": "203a756d",
   "metadata": {},
   "outputs": [
    {
     "name": "stdout",
     "output_type": "stream",
     "text": [
      "Entrance:  half angle = 15.0 deg, radius = 115.0 mm\n",
      "Exit radius: 29.8 mm\n",
      "Length: 540.3 mm\n",
      "f: 37.5 mm\n"
     ]
    },
    {
     "data": {
      "text/plain": [
       "(10.283382908752348,\n",
       " 603.4190736561524,\n",
       " -148.57351104575756,\n",
       " 148.57351104575756)"
      ]
     },
     "execution_count": 2,
     "metadata": {},
     "output_type": "execute_result"
    },
    {
     "data": {
      "image/png": "[encoded data removed]",
      "text/plain": [
       "<Figure size 800x300 with 1 Axes>"
      ]
     },
     "metadata": {},
     "output_type": "display_data"
    }
   ],
   "source": [
    "# Following http://www.ericweisstein.com/research/thesis/node99.html\n",
    "\n",
    "theta_deg = 15 # half angle of acceptance cone.\n",
    "theta_rad = theta_deg*(np.pi/180.)\n",
    "\n",
    "a = 115 #mm entrance aperture\n",
    "a_prime = a*np.sin(theta_rad)\n",
    "\n",
    "f = a_prime*(1+np.sin(theta_rad))\n",
    "L = (a+a_prime)/np.tan(theta_rad)\n",
    "\n",
    "print('Entrance:  half angle = {0:4.1f} deg, radius = {1:4.1f} mm'.format(theta_deg,a))\n",
    "print('Exit radius: {0:4.1f} mm'.format(a_prime))\n",
    "print('Length: {0:4.1f} mm'.format(L))\n",
    "print('f: {0:4.1f} mm'.format(f))\n",
    "\n",
    "phi_deg = np.arange(2*theta_deg,theta_deg+90,1)\n",
    "phi = phi_deg*np.pi/180.\n",
    "rho = 2*f/(1-np.cos(phi))\n",
    "y2 = rho*np.cos(phi)+f\n",
    "x2 = rho*np.sin(phi)\n",
    "cost = np.cos(theta_rad)\n",
    "sint = np.sin(theta_rad)\n",
    "\n",
    "xp2 = x2*cost - y2*sint\n",
    "yp2 = x2*sint + y2*cost\n",
    "\n",
    "plt.rcParams.update({'font.size': 12})\n",
    "plt.rcParams['figure.figsize'] = [8, 3]\n",
    "plt.plot(yp2,xp2,'b')\n",
    "plt.plot(yp2,-xp2,'b')\n",
    "plt.grid()\n",
    "plt.axis('equal')"
   ]
  },
  {
   "cell_type": "code",
   "execution_count": null,
   "id": "0259daa0",
   "metadata": {},
   "outputs": [],
   "source": []
  }
 ],
 "metadata": {
  "kernelspec": {
   "display_name": "Python 3 (ipykernel)",
   "language": "python",
   "name": "python3"
  },
  "language_info": {
   "codemirror_mode": {
    "name": "ipython",
    "version": 3
   },
   "file_extension": ".py",
   "mimetype": "text/x-python",
   "name": "python",
   "nbconvert_exporter": "python",
   "pygments_lexer": "ipython3",
   "version": "3.9.13"
  }
 },
 "nbformat": 4,
 "nbformat_minor": 5
}
